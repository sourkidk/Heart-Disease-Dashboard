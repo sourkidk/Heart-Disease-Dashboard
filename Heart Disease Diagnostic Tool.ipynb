{
 "cells":[
  {
   "cell_type":"markdown",
   "source":[
    "# __Heart Disease Diagnostic Tool__"
   ],
   "attachments":{
    
   },
   "metadata":{
    "datalore":{
     "node_id":"25s1BOYIxSvUt0sC646VTb",
     "type":"MD",
     "hide_input_from_viewers":false,
     "hide_output_from_viewers":false,
     "report_properties":{
      
     }
    }
   }
  },
  {
   "cell_type":"markdown",
   "source":[
    "## Fields\n",
    "\n",
    "**Age**: Age (29 - 77) \n",
    "\n",
    "**Sex**: Sex (1 = male; 0 = female)  \n",
    "\n",
    "**ChestPain**: Chest pain (0 : typical, 1 : asymptotic, 2 : nonanginal, 3 : nontypical)  \n",
    "\n",
    "**RestBP**: Resting blood pressure (94 - 200 bpm)\n",
    "\n",
    "**Chol**: Serum cholesteral in mg\/dl (126 - 564)\n",
    "\n",
    "**Fbs**: Fasting blood sugar > 120 mg\/dl (1 = true; 0 = false)  \n",
    "\n",
    "**RestECG**: Resting electrocardiographic results  (0: likely hypertrophy of the left ventricle, 1: normal, 2: ST-T wave abnormality)\n",
    "\n",
    "**Thalach**: Maximum heart rate achieved (71 - 202 bpm)\n",
    "\n",
    "**ExAng**: Exercise induced angina (1 = yes; 0 = no)  \n",
    "\n",
    "**Oldpeak**: ST depression induced by exercise relative to rest (0 - 6.2 continuous)\n",
    "\n",
    "**Slope**: Slope of the peak exercise ST segment (1: up, 2: flat, 3: down)\n",
    "\n",
    "**Ca**: Coronary Calcium Scan: Number of major vessels colored by flourosopy showing plaque in the heart (0 - 3)  \n",
    "\n",
    "**Thal**: Thalassemia: Heriditary Blood disorder resulting in reduced hemoglobin levels (3 = normal; 6 = fixed defect; 7 = reversable defect)  \n",
    "\n",
    "**target**: AHD - Diagnosis of heart disease (1 = yes; 0 = no)  \n",
    "\n",
    "Source: https:\/\/archive.ics.uci.edu\/ml\/datasets\/Heart+Disease"
   ],
   "attachments":{
    
   },
   "metadata":{
    "datalore":{
     "node_id":"PlYCvoxfcniuXnhOIf8BGc",
     "type":"MD",
     "hide_input_from_viewers":false,
     "hide_output_from_viewers":false,
     "report_properties":{
      
     }
    }
   }
  },
  {
   "cell_type":"markdown",
   "source":[
    "## Exploring the Data\n",
    "\n",
    "**Using pandas describe function provides an overview of the dataset including mean, minimums, maximums, percentiles, and standard deviations.**"
   ],
   "attachments":{
    
   },
   "metadata":{
    "datalore":{
     "node_id":"1rNFhV2G05AKl35LTzfU2s",
     "type":"MD",
     "hide_input_from_viewers":false,
     "hide_output_from_viewers":false
    }
   }
  },
  {
   "cell_type":"code",
   "source":[
    "import pandas as pd\n",
    "print(pd.__version__)\n",
    "from pandas.plotting import scatter_matrix\n",
    "import numpy as np\n",
    "import seaborn as sb\n",
    "import matplotlib.pyplot as plt\n",
    "heart_file_path = '\/data\/notebook_files\/heart.csv'\n",
    "heart_data = pd.read_csv(heart_file_path)\n",
    "\n",
    "settings = {'min-width' : '40px'}\n",
    "heart_data.describe().transpose().style.format(precision=0)\n"
   ],
   "execution_count":1,
   "outputs":[
    {
     "name":"stdout",
     "text":[
      "1.3.5\n"
     ],
     "output_type":"stream"
    },
    {
     "data":{
      "text\/html":[
       "<style type=\"text\/css\">\n",
       "<\/style>\n",
       "<table id=\"T_090a8_\">\n",
       "  <thead>\n",
       "    <tr>\n",
       "      <th class=\"blank level0\" >&nbsp;<\/th>\n",
       "      <th class=\"col_heading level0 col0\" >count<\/th>\n",
       "      <th class=\"col_heading level0 col1\" >mean<\/th>\n",
       "      <th class=\"col_heading level0 col2\" >std<\/th>\n",
       "      <th class=\"col_heading level0 col3\" >min<\/th>\n",
       "      <th class=\"col_heading level0 col4\" >25%<\/th>\n",
       "      <th class=\"col_heading level0 col5\" >50%<\/th>\n",
       "      <th class=\"col_heading level0 col6\" >75%<\/th>\n",
       "      <th class=\"col_heading level0 col7\" >max<\/th>\n",
       "    <\/tr>\n",
       "  <\/thead>\n",
       "  <tbody>\n",
       "    <tr>\n",
       "      <th id=\"T_090a8_level0_row0\" class=\"row_heading level0 row0\" >age<\/th>\n",
       "      <td id=\"T_090a8_row0_col0\" class=\"data row0 col0\" >303<\/td>\n",
       "      <td id=\"T_090a8_row0_col1\" class=\"data row0 col1\" >54<\/td>\n",
       "      <td id=\"T_090a8_row0_col2\" class=\"data row0 col2\" >9<\/td>\n",
       "      <td id=\"T_090a8_row0_col3\" class=\"data row0 col3\" >29<\/td>\n",
       "      <td id=\"T_090a8_row0_col4\" class=\"data row0 col4\" >48<\/td>\n",
       "      <td id=\"T_090a8_row0_col5\" class=\"data row0 col5\" >55<\/td>\n",
       "      <td id=\"T_090a8_row0_col6\" class=\"data row0 col6\" >61<\/td>\n",
       "      <td id=\"T_090a8_row0_col7\" class=\"data row0 col7\" >77<\/td>\n",
       "    <\/tr>\n",
       "    <tr>\n",
       "      <th id=\"T_090a8_level0_row1\" class=\"row_heading level0 row1\" >sex<\/th>\n",
       "      <td id=\"T_090a8_row1_col0\" class=\"data row1 col0\" >303<\/td>\n",
       "      <td id=\"T_090a8_row1_col1\" class=\"data row1 col1\" >1<\/td>\n",
       "      <td id=\"T_090a8_row1_col2\" class=\"data row1 col2\" >0<\/td>\n",
       "      <td id=\"T_090a8_row1_col3\" class=\"data row1 col3\" >0<\/td>\n",
       "      <td id=\"T_090a8_row1_col4\" class=\"data row1 col4\" >0<\/td>\n",
       "      <td id=\"T_090a8_row1_col5\" class=\"data row1 col5\" >1<\/td>\n",
       "      <td id=\"T_090a8_row1_col6\" class=\"data row1 col6\" >1<\/td>\n",
       "      <td id=\"T_090a8_row1_col7\" class=\"data row1 col7\" >1<\/td>\n",
       "    <\/tr>\n",
       "    <tr>\n",
       "      <th id=\"T_090a8_level0_row2\" class=\"row_heading level0 row2\" >cp<\/th>\n",
       "      <td id=\"T_090a8_row2_col0\" class=\"data row2 col0\" >303<\/td>\n",
       "      <td id=\"T_090a8_row2_col1\" class=\"data row2 col1\" >1<\/td>\n",
       "      <td id=\"T_090a8_row2_col2\" class=\"data row2 col2\" >1<\/td>\n",
       "      <td id=\"T_090a8_row2_col3\" class=\"data row2 col3\" >0<\/td>\n",
       "      <td id=\"T_090a8_row2_col4\" class=\"data row2 col4\" >0<\/td>\n",
       "      <td id=\"T_090a8_row2_col5\" class=\"data row2 col5\" >1<\/td>\n",
       "      <td id=\"T_090a8_row2_col6\" class=\"data row2 col6\" >2<\/td>\n",
       "      <td id=\"T_090a8_row2_col7\" class=\"data row2 col7\" >3<\/td>\n",
       "    <\/tr>\n",
       "    <tr>\n",
       "      <th id=\"T_090a8_level0_row3\" class=\"row_heading level0 row3\" >trestbps<\/th>\n",
       "      <td id=\"T_090a8_row3_col0\" class=\"data row3 col0\" >303<\/td>\n",
       "      <td id=\"T_090a8_row3_col1\" class=\"data row3 col1\" >132<\/td>\n",
       "      <td id=\"T_090a8_row3_col2\" class=\"data row3 col2\" >18<\/td>\n",
       "      <td id=\"T_090a8_row3_col3\" class=\"data row3 col3\" >94<\/td>\n",
       "      <td id=\"T_090a8_row3_col4\" class=\"data row3 col4\" >120<\/td>\n",
       "      <td id=\"T_090a8_row3_col5\" class=\"data row3 col5\" >130<\/td>\n",
       "      <td id=\"T_090a8_row3_col6\" class=\"data row3 col6\" >140<\/td>\n",
       "      <td id=\"T_090a8_row3_col7\" class=\"data row3 col7\" >200<\/td>\n",
       "    <\/tr>\n",
       "    <tr>\n",
       "      <th id=\"T_090a8_level0_row4\" class=\"row_heading level0 row4\" >chol<\/th>\n",
       "      <td id=\"T_090a8_row4_col0\" class=\"data row4 col0\" >303<\/td>\n",
       "      <td id=\"T_090a8_row4_col1\" class=\"data row4 col1\" >246<\/td>\n",
       "      <td id=\"T_090a8_row4_col2\" class=\"data row4 col2\" >52<\/td>\n",
       "      <td id=\"T_090a8_row4_col3\" class=\"data row4 col3\" >126<\/td>\n",
       "      <td id=\"T_090a8_row4_col4\" class=\"data row4 col4\" >211<\/td>\n",
       "      <td id=\"T_090a8_row4_col5\" class=\"data row4 col5\" >240<\/td>\n",
       "      <td id=\"T_090a8_row4_col6\" class=\"data row4 col6\" >274<\/td>\n",
       "      <td id=\"T_090a8_row4_col7\" class=\"data row4 col7\" >564<\/td>\n",
       "    <\/tr>\n",
       "    <tr>\n",
       "      <th id=\"T_090a8_level0_row5\" class=\"row_heading level0 row5\" >fbs<\/th>\n",
       "      <td id=\"T_090a8_row5_col0\" class=\"data row5 col0\" >303<\/td>\n",
       "      <td id=\"T_090a8_row5_col1\" class=\"data row5 col1\" >0<\/td>\n",
       "      <td id=\"T_090a8_row5_col2\" class=\"data row5 col2\" >0<\/td>\n",
       "      <td id=\"T_090a8_row5_col3\" class=\"data row5 col3\" >0<\/td>\n",
       "      <td id=\"T_090a8_row5_col4\" class=\"data row5 col4\" >0<\/td>\n",
       "      <td id=\"T_090a8_row5_col5\" class=\"data row5 col5\" >0<\/td>\n",
       "      <td id=\"T_090a8_row5_col6\" class=\"data row5 col6\" >0<\/td>\n",
       "      <td id=\"T_090a8_row5_col7\" class=\"data row5 col7\" >1<\/td>\n",
       "    <\/tr>\n",
       "    <tr>\n",
       "      <th id=\"T_090a8_level0_row6\" class=\"row_heading level0 row6\" >restecg<\/th>\n",
       "      <td id=\"T_090a8_row6_col0\" class=\"data row6 col0\" >303<\/td>\n",
       "      <td id=\"T_090a8_row6_col1\" class=\"data row6 col1\" >1<\/td>\n",
       "      <td id=\"T_090a8_row6_col2\" class=\"data row6 col2\" >1<\/td>\n",
       "      <td id=\"T_090a8_row6_col3\" class=\"data row6 col3\" >0<\/td>\n",
       "      <td id=\"T_090a8_row6_col4\" class=\"data row6 col4\" >0<\/td>\n",
       "      <td id=\"T_090a8_row6_col5\" class=\"data row6 col5\" >1<\/td>\n",
       "      <td id=\"T_090a8_row6_col6\" class=\"data row6 col6\" >1<\/td>\n",
       "      <td id=\"T_090a8_row6_col7\" class=\"data row6 col7\" >2<\/td>\n",
       "    <\/tr>\n",
       "    <tr>\n",
       "      <th id=\"T_090a8_level0_row7\" class=\"row_heading level0 row7\" >thalach<\/th>\n",
       "      <td id=\"T_090a8_row7_col0\" class=\"data row7 col0\" >303<\/td>\n",
       "      <td id=\"T_090a8_row7_col1\" class=\"data row7 col1\" >150<\/td>\n",
       "      <td id=\"T_090a8_row7_col2\" class=\"data row7 col2\" >23<\/td>\n",
       "      <td id=\"T_090a8_row7_col3\" class=\"data row7 col3\" >71<\/td>\n",
       "      <td id=\"T_090a8_row7_col4\" class=\"data row7 col4\" >134<\/td>\n",
       "      <td id=\"T_090a8_row7_col5\" class=\"data row7 col5\" >153<\/td>\n",
       "      <td id=\"T_090a8_row7_col6\" class=\"data row7 col6\" >166<\/td>\n",
       "      <td id=\"T_090a8_row7_col7\" class=\"data row7 col7\" >202<\/td>\n",
       "    <\/tr>\n",
       "    <tr>\n",
       "      <th id=\"T_090a8_level0_row8\" class=\"row_heading level0 row8\" >exang<\/th>\n",
       "      <td id=\"T_090a8_row8_col0\" class=\"data row8 col0\" >303<\/td>\n",
       "      <td id=\"T_090a8_row8_col1\" class=\"data row8 col1\" >0<\/td>\n",
       "      <td id=\"T_090a8_row8_col2\" class=\"data row8 col2\" >0<\/td>\n",
       "      <td id=\"T_090a8_row8_col3\" class=\"data row8 col3\" >0<\/td>\n",
       "      <td id=\"T_090a8_row8_col4\" class=\"data row8 col4\" >0<\/td>\n",
       "      <td id=\"T_090a8_row8_col5\" class=\"data row8 col5\" >0<\/td>\n",
       "      <td id=\"T_090a8_row8_col6\" class=\"data row8 col6\" >1<\/td>\n",
       "      <td id=\"T_090a8_row8_col7\" class=\"data row8 col7\" >1<\/td>\n",
       "    <\/tr>\n",
       "    <tr>\n",
       "      <th id=\"T_090a8_level0_row9\" class=\"row_heading level0 row9\" >oldpeak<\/th>\n",
       "      <td id=\"T_090a8_row9_col0\" class=\"data row9 col0\" >303<\/td>\n",
       "      <td id=\"T_090a8_row9_col1\" class=\"data row9 col1\" >1<\/td>\n",
       "      <td id=\"T_090a8_row9_col2\" class=\"data row9 col2\" >1<\/td>\n",
       "      <td id=\"T_090a8_row9_col3\" class=\"data row9 col3\" >0<\/td>\n",
       "      <td id=\"T_090a8_row9_col4\" class=\"data row9 col4\" >0<\/td>\n",
       "      <td id=\"T_090a8_row9_col5\" class=\"data row9 col5\" >1<\/td>\n",
       "      <td id=\"T_090a8_row9_col6\" class=\"data row9 col6\" >2<\/td>\n",
       "      <td id=\"T_090a8_row9_col7\" class=\"data row9 col7\" >6<\/td>\n",
       "    <\/tr>\n",
       "    <tr>\n",
       "      <th id=\"T_090a8_level0_row10\" class=\"row_heading level0 row10\" >slope<\/th>\n",
       "      <td id=\"T_090a8_row10_col0\" class=\"data row10 col0\" >303<\/td>\n",
       "      <td id=\"T_090a8_row10_col1\" class=\"data row10 col1\" >1<\/td>\n",
       "      <td id=\"T_090a8_row10_col2\" class=\"data row10 col2\" >1<\/td>\n",
       "      <td id=\"T_090a8_row10_col3\" class=\"data row10 col3\" >0<\/td>\n",
       "      <td id=\"T_090a8_row10_col4\" class=\"data row10 col4\" >1<\/td>\n",
       "      <td id=\"T_090a8_row10_col5\" class=\"data row10 col5\" >1<\/td>\n",
       "      <td id=\"T_090a8_row10_col6\" class=\"data row10 col6\" >2<\/td>\n",
       "      <td id=\"T_090a8_row10_col7\" class=\"data row10 col7\" >2<\/td>\n",
       "    <\/tr>\n",
       "    <tr>\n",
       "      <th id=\"T_090a8_level0_row11\" class=\"row_heading level0 row11\" >ca<\/th>\n",
       "      <td id=\"T_090a8_row11_col0\" class=\"data row11 col0\" >303<\/td>\n",
       "      <td id=\"T_090a8_row11_col1\" class=\"data row11 col1\" >1<\/td>\n",
       "      <td id=\"T_090a8_row11_col2\" class=\"data row11 col2\" >1<\/td>\n",
       "      <td id=\"T_090a8_row11_col3\" class=\"data row11 col3\" >0<\/td>\n",
       "      <td id=\"T_090a8_row11_col4\" class=\"data row11 col4\" >0<\/td>\n",
       "      <td id=\"T_090a8_row11_col5\" class=\"data row11 col5\" >0<\/td>\n",
       "      <td id=\"T_090a8_row11_col6\" class=\"data row11 col6\" >1<\/td>\n",
       "      <td id=\"T_090a8_row11_col7\" class=\"data row11 col7\" >4<\/td>\n",
       "    <\/tr>\n",
       "    <tr>\n",
       "      <th id=\"T_090a8_level0_row12\" class=\"row_heading level0 row12\" >thal<\/th>\n",
       "      <td id=\"T_090a8_row12_col0\" class=\"data row12 col0\" >303<\/td>\n",
       "      <td id=\"T_090a8_row12_col1\" class=\"data row12 col1\" >2<\/td>\n",
       "      <td id=\"T_090a8_row12_col2\" class=\"data row12 col2\" >1<\/td>\n",
       "      <td id=\"T_090a8_row12_col3\" class=\"data row12 col3\" >0<\/td>\n",
       "      <td id=\"T_090a8_row12_col4\" class=\"data row12 col4\" >2<\/td>\n",
       "      <td id=\"T_090a8_row12_col5\" class=\"data row12 col5\" >2<\/td>\n",
       "      <td id=\"T_090a8_row12_col6\" class=\"data row12 col6\" >3<\/td>\n",
       "      <td id=\"T_090a8_row12_col7\" class=\"data row12 col7\" >3<\/td>\n",
       "    <\/tr>\n",
       "    <tr>\n",
       "      <th id=\"T_090a8_level0_row13\" class=\"row_heading level0 row13\" >target<\/th>\n",
       "      <td id=\"T_090a8_row13_col0\" class=\"data row13 col0\" >303<\/td>\n",
       "      <td id=\"T_090a8_row13_col1\" class=\"data row13 col1\" >1<\/td>\n",
       "      <td id=\"T_090a8_row13_col2\" class=\"data row13 col2\" >0<\/td>\n",
       "      <td id=\"T_090a8_row13_col3\" class=\"data row13 col3\" >0<\/td>\n",
       "      <td id=\"T_090a8_row13_col4\" class=\"data row13 col4\" >0<\/td>\n",
       "      <td id=\"T_090a8_row13_col5\" class=\"data row13 col5\" >1<\/td>\n",
       "      <td id=\"T_090a8_row13_col6\" class=\"data row13 col6\" >1<\/td>\n",
       "      <td id=\"T_090a8_row13_col7\" class=\"data row13 col7\" >1<\/td>\n",
       "    <\/tr>\n",
       "  <\/tbody>\n",
       "<\/table>\n"
      ]
     },
     "metadata":{
      
     },
     "output_type":"display_data"
    }
   ],
   "metadata":{
    "datalore":{
     "node_id":"0iVMKK0gdWJwUHyNe9rSpF",
     "type":"CODE",
     "hide_input_from_viewers":false,
     "hide_output_from_viewers":false,
     "report_properties":{
      
     }
    }
   }
  },
  {
   "cell_type":"code",
   "source":[
    "heart_data.dtypes"
   ],
   "execution_count":2,
   "outputs":[
    {
     "data":{
      "text\/html":[
       
      ]
     },
     "metadata":{
      
     },
     "output_type":"display_data"
    }
   ],
   "metadata":{
    "datalore":{
     "node_id":"P5ZBGAwCzqqfSNsFD0tOEr",
     "type":"CODE",
     "hide_input_from_viewers":false,
     "hide_output_from_viewers":false
    }
   }
  },
  {
   "cell_type":"markdown",
   "source":[
    "**All fields except oldpeak where inported as integers, converting the data types of several fields to boolean, creates clarity**"
   ],
   "attachments":{
    
   },
   "metadata":{
    "datalore":{
     "node_id":"yNUo5sUz3e5cJv83DIoABK",
     "type":"MD",
     "hide_input_from_viewers":false,
     "hide_output_from_viewers":false
    }
   }
  },
  {
   "cell_type":"code",
   "source":[
    "heart_data['sex'] = heart_data['sex'].astype('bool')\n",
    "heart_data['fbs'] = heart_data['fbs'].astype('bool')\n",
    "heart_data['exang'] = heart_data['exang'].astype('bool')\n",
    "heart_data['target'] = heart_data['target'].astype('bool')\n",
    "\n",
    "heart_data.dtypes"
   ],
   "execution_count":3,
   "outputs":[
    {
     "data":{
      "text\/html":[
       
      ]
     },
     "metadata":{
      
     },
     "output_type":"display_data"
    }
   ],
   "metadata":{
    "datalore":{
     "node_id":"MoHtKr6Ki5hyk2yKvmngJT",
     "type":"CODE",
     "hide_input_from_viewers":false,
     "hide_output_from_viewers":false
    }
   }
  },
  {
   "cell_type":"code",
   "source":[
    "attributes = ['age', 'sex','cp', 'trestbps','chol','fbs','restecg','thalach','exang','oldpeak','slope','ca','thal']\n",
    "\n",
    "fig, ax = plt.subplots(figsize=(16, 12))\n",
    "plt.title('Heatmap of attributes', fontsize=14)\n",
    "dataplot = sb.heatmap(heart_data.corr(), cmap=\"YlGnBu\", annot=True)"
   ],
   "execution_count":4,
   "outputs":[
    {
     "data":{
      "image\/png":"[encoded data removed]"
     },
     "metadata":{
      "image\/png":{
       
      }
     },
     "output_type":"display_data"
    }
   ],
   "metadata":{
    "datalore":{
     "node_id":"EiT6BnuCkHALAXYRvDJyRe",
     "type":"CODE",
     "hide_input_from_viewers":false,
     "hide_output_from_viewers":false,
     "report_properties":{
      
     }
    }
   }
  },
  {
   "cell_type":"markdown",
   "source":[
    "**The heatmap shows that max heart rate(thalach) and chest pain types(cp) are the most strongly correlated with the target variable which is the diagnosis of heart disease.**  See pie chart and histogram below for details."
   ],
   "attachments":{
    
   },
   "metadata":{
    "datalore":{
     "node_id":"lO9pRiaFqZOoayh6tEofgP",
     "type":"MD",
     "hide_input_from_viewers":false,
     "hide_output_from_viewers":false
    }
   }
  },
  {
   "cell_type":"code",
   "source":[
    "labels = ['Type 2','Type 1','Type 0', 'Type 3']\n",
    "fig, ax = plt.subplots(figsize=(16, 12))\n",
    "pos_diag = heart_data[heart_data.target == 1]\n",
    "cp_types = pos_diag['cp'].value_counts()\n",
    "\n",
    "plt.title('Types of Chest Pain with positive diagnosis', fontsize = 14)\n",
    "\n",
    "plt.pie(cp_types, labels=labels, colors=['darkblue','mediumblue','slateblue','mediumpurple'],textprops={'fontsize':12})\n",
    "plt.show()"
   ],
   "execution_count":5,
   "outputs":[
    {
     "data":{
      "image\/png":"[encoded data removed]"
     },
     "metadata":{
      "image\/png":{
       
      }
     },
     "output_type":"display_data"
    }
   ],
   "metadata":{
    "datalore":{
     "node_id":"LLaeJlUCKPwS42hCoejMTk",
     "type":"CODE",
     "hide_input_from_viewers":false,
     "hide_output_from_viewers":false
    }
   }
  },
  {
   "cell_type":"code",
   "source":[
    "plt.figure(figsize=(15,9))\n",
    "hist_plot=sb.histplot(data=heart_data,x='thalach',hue='target',bins=30,stat='count',palette='mako')\n",
    "\n",
    "plt.title('Count of Diagnoses via Max Heart Rate',fontsize=15)\n",
    "plt.xlabel('Max Heart rate Achieved(Thalach)');"
   ],
   "execution_count":6,
   "outputs":[
    {
     "data":{
      "image\/png":"[encoded data removed]"
     },
     "metadata":{
      "image\/png":{
       
      }
     },
     "output_type":"display_data"
    }
   ],
   "metadata":{
    "datalore":{
     "node_id":"3a9zGxbdBHU1jRWUDOYJwT",
     "type":"CODE",
     "hide_input_from_viewers":false,
     "hide_output_from_viewers":false,
     "report_properties":{
      
     }
    }
   }
  },
  {
   "cell_type":"code",
   "source":[
    "from sklearn.tree import DecisionTreeRegressor\n",
    "from sklearn.model_selection import train_test_split\n",
    "from sklearn.metrics import mean_absolute_error\n",
    "from sklearn.metrics import accuracy_score\n",
    "\n",
    "X = heart_data[attributes]\n",
    "y = heart_data.target\n",
    "\n",
    "train_X, val_X, train_y, val_y = train_test_split(X,y, random_state = 0)\n",
    "heart_model = DecisionTreeRegressor(max_leaf_nodes=50,random_state=0)\n",
    "\n",
    "heart_model.fit(train_X,train_y)"
   ],
   "execution_count":7,
   "outputs":[
    {
     "data":{
      "text\/plain":[
       "DecisionTreeRegressor(max_leaf_nodes=50, random_state=0)"
      ]
     },
     "metadata":{
      
     },
     "output_type":"display_data"
    }
   ],
   "metadata":{
    "datalore":{
     "node_id":"3p2IMA1b8VUTVrOf1zlI3x",
     "type":"CODE",
     "hide_input_from_viewers":false,
     "hide_output_from_viewers":false,
     "report_properties":{
      
     }
    }
   }
  },
  {
   "cell_type":"code",
   "source":[
    "print(\"Making predictions for heart disease diagnosis\")\n",
    "\n",
    "print(\"The predictions are\")\n",
    "val_predictions = heart_model.predict(val_X)\n",
    "\n",
    "print(f'Score: {heart_model.score(val_X,val_y)}')\n",
    "print(f'Accuracy: {accuracy_score(val_predictions,val_y)}')\n",
    "\n",
    "print(f'Mean absolute error {mean_absolute_error(val_y,val_predictions)}')"
   ],
   "execution_count":8,
   "outputs":[
    {
     "name":"stdout",
     "text":[
      "Making predictions for heart disease diagnosis\n",
      "The predictions are\n",
      "Score: 0.14305849189570097\n",
      "Accuracy: 0.7894736842105263\n",
      "Mean absolute error 0.21052631578947367\n"
     ],
     "output_type":"stream"
    }
   ],
   "metadata":{
    "datalore":{
     "node_id":"3vMm3mlAWoidaxORA24M1g",
     "type":"CODE",
     "hide_input_from_viewers":false,
     "hide_output_from_viewers":false,
     "report_properties":{
      
     }
    }
   }
  },
  {
   "cell_type":"code",
   "source":[
    "def get_mean_abs_error(max_leaf_nodes, train_X, val_X, train_y, val_y):\n",
    "    model = DecisionTreeRegressor(max_leaf_nodes=max_leaf_nodes, random_state=0)\n",
    "    model.fit(train_X, train_y)\n",
    "    preds_val = model.predict(val_X)\n",
    "    mean_abs_err = mean_absolute_error(val_y, preds_val)\n",
    "    return(mean_abs_err)"
   ],
   "execution_count":9,
   "outputs":[
    
   ],
   "metadata":{
    "datalore":{
     "node_id":"7gbiDr4GZVLkgU9txtvYTq",
     "type":"CODE",
     "hide_input_from_viewers":false,
     "hide_output_from_viewers":false,
     "report_properties":{
      
     }
    }
   }
  },
  {
   "cell_type":"markdown",
   "source":[
    "**Testing the mean absolute error of the Decision Tree regression model at different leaf node values demonstrated that 50 leaf nodes was the most accurate in the range tested on this dataset, without increasing the compute burden.  The model was retroactively adjusted to realize this benefit.**"
   ],
   "attachments":{
    
   },
   "metadata":{
    "datalore":{
     "node_id":"6sr3O7LtVbOqeNwPk4kuKJ",
     "type":"MD",
     "hide_input_from_viewers":false,
     "hide_output_from_viewers":false
    }
   }
  },
  {
   "cell_type":"code",
   "source":[
    "candidate_max_leaf_nodes = [5, 25, 50, 100, 250, 500]\n",
    "# Write loop to find the ideal tree size from candidate_max_leaf_nodes\n",
    "for max_leaf_nodes in candidate_max_leaf_nodes:\n",
    "    my_mae = get_mean_abs_error(max_leaf_nodes, train_X, val_X, train_y, val_y)\n",
    "    print(f'{max_leaf_nodes} : {my_mae}')"
   ],
   "execution_count":10,
   "outputs":[
    {
     "name":"stdout",
     "text":[
      "5 : 0.29576023391812867\n",
      "25 : 0.24777572414872184\n",
      "50 : 0.21052631578947367\n",
      "100 : 0.21052631578947367\n",
      "250 : 0.21052631578947367\n",
      "500 : 0.21052631578947367\n"
     ],
     "output_type":"stream"
    }
   ],
   "metadata":{
    "datalore":{
     "node_id":"hCU9NIwSvpJ8XtulsGSjMG",
     "type":"CODE",
     "hide_input_from_viewers":false,
     "hide_output_from_viewers":false,
     "report_properties":{
      
     }
    }
   }
  },
  {
   "cell_type":"markdown",
   "source":[
    "# Heart Disease Diagnostic Tool\n",
    "### Please enter the patient's information and then scroll to the bottom for results."
   ],
   "attachments":{
    
   },
   "metadata":{
    "datalore":{
     "node_id":"PVYgWsgoweUQutLMfSlp7b",
     "type":"MD",
     "hide_input_from_viewers":false,
     "hide_output_from_viewers":false,
     "report_properties":{
      
     }
    }
   }
  },
  {
   "cell_type":"code",
   "source":[
    "inp_age = 32"
   ],
   "execution_count":11,
   "outputs":[
    
   ],
   "metadata":{
    "datalore":{
     "node_id":"XWpbk0NHjeVK4CE6PZplcP",
     "type":"CONTROL",
     "hide_input_from_viewers":false,
     "hide_output_from_viewers":false,
     "report_properties":{
      
     },
     "controls_state":[
      {
       "type":"SLIDER",
       "label":"Age",
       "variable":"inp_age",
       "value":"32",
       "min":"18",
       "max":"100",
       "step":"1",
       "minExpression":"18",
       "maxExpression":"100",
       "stepExpression":"1"
      }
     ]
    }
   }
  },
  {
   "cell_type":"markdown",
   "source":[
    "Age in years"
   ],
   "attachments":{
    
   },
   "metadata":{
    "datalore":{
     "node_id":"MbPCs6zmBNsxv2ZEnl1bmz",
     "type":"MD",
     "hide_input_from_viewers":false,
     "hide_output_from_viewers":false,
     "report_properties":{
      
     }
    }
   }
  },
  {
   "cell_type":"code",
   "source":[
    "inp_sex = \"1\""
   ],
   "execution_count":12,
   "outputs":[
    
   ],
   "metadata":{
    "datalore":{
     "node_id":"LsjJ4391xY3mctVXtG8rQp",
     "type":"CONTROL",
     "hide_input_from_viewers":false,
     "hide_output_from_viewers":false,
     "report_properties":{
      
     },
     "controls_state":[
      {
       "type":"DROPDOWN",
       "label":"Sex (1: Male, 0: Female)",
       "variable":"inp_sex",
       "value":"1",
       "values":[
        
       ],
       "items":[
        "0",
        "1"
       ],
       "multiselect":false
      }
     ]
    }
   }
  },
  {
   "cell_type":"markdown",
   "source":[
    "Sex (1: Male, 0: Female)"
   ],
   "attachments":{
    
   },
   "metadata":{
    "datalore":{
     "node_id":"mP0YtqknSNeVZAaaDnPuGK",
     "type":"MD",
     "hide_input_from_viewers":false,
     "hide_output_from_viewers":false,
     "report_properties":{
      
     }
    }
   }
  },
  {
   "cell_type":"code",
   "source":[
    "inp_cp = \"0\""
   ],
   "execution_count":13,
   "outputs":[
    
   ],
   "metadata":{
    "datalore":{
     "node_id":"NCqaDkAjRgV0VpHjSEGNVW",
     "type":"CONTROL",
     "hide_input_from_viewers":false,
     "hide_output_from_viewers":false,
     "report_properties":{
      
     },
     "controls_state":[
      {
       "type":"DROPDOWN",
       "label":"Chest Pain (0-4)",
       "variable":"inp_cp",
       "value":"0",
       "values":[
        
       ],
       "items":[
        "0",
        "1",
        "2",
        "3"
       ],
       "multiselect":false
      }
     ]
    }
   }
  },
  {
   "cell_type":"markdown",
   "source":[
    "Chest Pain (0-4, typical, asymptotic, non-anginal, non-typical)"
   ],
   "attachments":{
    
   },
   "metadata":{
    "datalore":{
     "node_id":"MlnwgvaLp0VTcDInFt97cO",
     "type":"MD",
     "hide_input_from_viewers":false,
     "hide_output_from_viewers":false,
     "report_properties":{
      
     }
    }
   }
  },
  {
   "cell_type":"code",
   "source":[
    "inp_trestbp = 120"
   ],
   "execution_count":14,
   "outputs":[
    
   ],
   "metadata":{
    "datalore":{
     "node_id":"ekpKqq8xkR01H6Mckh83Xz",
     "type":"CONTROL",
     "hide_input_from_viewers":false,
     "hide_output_from_viewers":false,
     "report_properties":{
      
     },
     "controls_state":[
      {
       "type":"SLIDER",
       "label":"Resting Blood Pressure (Systolic)",
       "variable":"inp_trestbp",
       "value":"120",
       "min":"80",
       "max":"200",
       "step":"1",
       "minExpression":"80",
       "maxExpression":"200",
       "stepExpression":"1"
      }
     ]
    }
   }
  },
  {
   "cell_type":"markdown",
   "source":[
    "Resting Blood Pressure"
   ],
   "attachments":{
    
   },
   "metadata":{
    "datalore":{
     "node_id":"PtKUi0bD8zROhFtpePDPZj",
     "type":"MD",
     "hide_input_from_viewers":false,
     "hide_output_from_viewers":false,
     "report_properties":{
      
     }
    }
   }
  },
  {
   "cell_type":"code",
   "source":[
    "inp_chol = 190"
   ],
   "execution_count":15,
   "outputs":[
    
   ],
   "metadata":{
    "datalore":{
     "node_id":"KCXXiV9j2NZw2MYIUeco7f",
     "type":"CONTROL",
     "hide_input_from_viewers":false,
     "hide_output_from_viewers":false,
     "report_properties":{
      
     },
     "controls_state":[
      {
       "type":"SLIDER",
       "label":"Cholesterol (Serum mg\/dl)",
       "variable":"inp_chol",
       "value":"190",
       "min":"120",
       "max":"570",
       "step":"2",
       "minExpression":"120",
       "maxExpression":"570",
       "stepExpression":"2"
      }
     ]
    }
   }
  },
  {
   "cell_type":"markdown",
   "source":[
    "Serum Cholesterol in mg\/dl"
   ],
   "attachments":{
    
   },
   "metadata":{
    "datalore":{
     "node_id":"UZFNRqATWoLjRIq8KeP1TA",
     "type":"MD",
     "hide_input_from_viewers":false,
     "hide_output_from_viewers":false,
     "report_properties":{
      
     }
    }
   }
  },
  {
   "cell_type":"code",
   "source":[
    "inp_fbs = \"0\""
   ],
   "execution_count":16,
   "outputs":[
    
   ],
   "metadata":{
    "datalore":{
     "node_id":"hxXl1V4EUdzYB7t4kP8hbd",
     "type":"CONTROL",
     "hide_input_from_viewers":false,
     "hide_output_from_viewers":false,
     "report_properties":{
      
     },
     "controls_state":[
      {
       "type":"DROPDOWN",
       "label":"Fasting Blood Sugar > 120 MG\/DL",
       "variable":"inp_fbs",
       "value":"0",
       "values":[
        
       ],
       "items":[
        "0",
        "1"
       ],
       "multiselect":false
      }
     ]
    }
   }
  },
  {
   "cell_type":"markdown",
   "source":[
    "Fasting Blood Sugar > 120 mg\/dl (1: True, 0: False)"
   ],
   "attachments":{
    
   },
   "metadata":{
    "datalore":{
     "node_id":"YaKuRVWh9NUYKzojzBC0h0",
     "type":"MD",
     "hide_input_from_viewers":false,
     "hide_output_from_viewers":false,
     "report_properties":{
      
     }
    }
   }
  },
  {
   "cell_type":"code",
   "source":[
    "inp_restecg = \"1\""
   ],
   "execution_count":17,
   "outputs":[
    
   ],
   "metadata":{
    "datalore":{
     "node_id":"OiQPuTgGVEy9WB7l60dAEz",
     "type":"CONTROL",
     "hide_input_from_viewers":false,
     "hide_output_from_viewers":false,
     "report_properties":{
      
     },
     "controls_state":[
      {
       "type":"DROPDOWN",
       "label":"Resting ECG Result",
       "variable":"inp_restecg",
       "value":"1",
       "values":[
        
       ],
       "items":[
        "1",
        "2",
        "0"
       ],
       "multiselect":false
      }
     ]
    }
   }
  },
  {
   "cell_type":"markdown",
   "source":[
    "Resting ECG Result (0: hypertrophy, 1: Normal, 2: ST abnormality))"
   ],
   "attachments":{
    
   },
   "metadata":{
    "datalore":{
     "node_id":"b13luLLLKDbts3Qy2pQkpE",
     "type":"MD",
     "hide_input_from_viewers":false,
     "hide_output_from_viewers":false,
     "report_properties":{
      
     }
    }
   }
  },
  {
   "cell_type":"code",
   "source":[
    "inp_thalach = 187"
   ],
   "execution_count":18,
   "outputs":[
    
   ],
   "metadata":{
    "datalore":{
     "node_id":"sEirJLMKqIrS8YcXMHzKgf",
     "type":"CONTROL",
     "hide_input_from_viewers":false,
     "hide_output_from_viewers":false,
     "report_properties":{
      
     },
     "controls_state":[
      {
       "type":"SLIDER",
       "label":"Max Heart Rate Acheived (bpm)",
       "variable":"inp_thalach",
       "value":"187",
       "min":"70",
       "max":"205",
       "step":"1",
       "minExpression":"70",
       "maxExpression":"205",
       "stepExpression":"1"
      }
     ]
    }
   }
  },
  {
   "cell_type":"markdown",
   "source":[
    "Maximum Heart Rate in beats per minute"
   ],
   "attachments":{
    
   },
   "metadata":{
    "datalore":{
     "node_id":"EGM6ofWv1jqB0uCAKgPAop",
     "type":"MD",
     "hide_input_from_viewers":false,
     "hide_output_from_viewers":false,
     "report_properties":{
      
     }
    }
   }
  },
  {
   "cell_type":"code",
   "source":[
    "inp_exang = \"0\""
   ],
   "execution_count":19,
   "outputs":[
    
   ],
   "metadata":{
    "datalore":{
     "node_id":"cchi1GcbctatjzUbkAqwzE",
     "type":"CONTROL",
     "hide_input_from_viewers":false,
     "hide_output_from_viewers":false,
     "report_properties":{
      
     },
     "controls_state":[
      {
       "type":"DROPDOWN",
       "label":"Exercise Induced Angina (1: Yes, 0: No)",
       "variable":"inp_exang",
       "value":"0",
       "values":[
        
       ],
       "items":[
        "0",
        "1"
       ],
       "multiselect":false
      }
     ]
    }
   }
  },
  {
   "cell_type":"markdown",
   "source":[
    "Exercise induced Angina"
   ],
   "attachments":{
    
   },
   "metadata":{
    "datalore":{
     "node_id":"2Hf5SNQqcfHvTKdp2r4VGZ",
     "type":"MD",
     "hide_input_from_viewers":false,
     "hide_output_from_viewers":false,
     "report_properties":{
      
     }
    }
   }
  },
  {
   "cell_type":"code",
   "source":[
    "inp_oldpeak = 0.0"
   ],
   "execution_count":20,
   "outputs":[
    
   ],
   "metadata":{
    "datalore":{
     "node_id":"THqnqRbU4z733Hq2ky3VEB",
     "type":"CONTROL",
     "hide_input_from_viewers":false,
     "hide_output_from_viewers":false,
     "report_properties":{
      
     },
     "controls_state":[
      {
       "type":"SLIDER",
       "label":"Oldpeak",
       "variable":"inp_oldpeak",
       "value":"0",
       "min":"0",
       "max":"6.2",
       "step":".1",
       "minExpression":"0",
       "maxExpression":"6.2",
       "stepExpression":".1"
      }
     ]
    }
   }
  },
  {
   "cell_type":"markdown",
   "source":[
    "Oldpeak (ST depression induced by Exercise 0 - 6.2)"
   ],
   "attachments":{
    
   },
   "metadata":{
    "datalore":{
     "node_id":"eVP2pr0ltwe4kFQE9tGrp0",
     "type":"MD",
     "hide_input_from_viewers":false,
     "hide_output_from_viewers":false,
     "report_properties":{
      
     }
    }
   }
  },
  {
   "cell_type":"code",
   "source":[
    "inp_slope = \"1\""
   ],
   "execution_count":21,
   "outputs":[
    
   ],
   "metadata":{
    "datalore":{
     "node_id":"8aGZ2bKJCoToN8DrfqqlCC",
     "type":"CONTROL",
     "hide_input_from_viewers":false,
     "hide_output_from_viewers":false,
     "report_properties":{
      
     },
     "controls_state":[
      {
       "type":"DROPDOWN",
       "label":"Slope of the peak exercise ST segment",
       "variable":"inp_slope",
       "value":"1",
       "values":[
        
       ],
       "items":[
        "1",
        "2",
        "3"
       ],
       "multiselect":false
      }
     ]
    }
   }
  },
  {
   "cell_type":"markdown",
   "source":[
    "Slope of the peak exercise ST segment (1: Up, 2: Flat, 3: Down)"
   ],
   "attachments":{
    
   },
   "metadata":{
    "datalore":{
     "node_id":"kY4jibRprhZSDVtoFvCCN8",
     "type":"MD",
     "hide_input_from_viewers":false,
     "hide_output_from_viewers":false,
     "report_properties":{
      
     }
    }
   }
  },
  {
   "cell_type":"code",
   "source":[
    "inp_ca = \"0\""
   ],
   "execution_count":22,
   "outputs":[
    
   ],
   "metadata":{
    "datalore":{
     "node_id":"UDw8dihpmSL8klIZ7m6B4g",
     "type":"CONTROL",
     "hide_input_from_viewers":false,
     "hide_output_from_viewers":false,
     "report_properties":{
      
     },
     "controls_state":[
      {
       "type":"DROPDOWN",
       "label":"Coronary Calcium Scan Result",
       "variable":"inp_ca",
       "value":"0",
       "values":[
        
       ],
       "items":[
        "0",
        "1",
        "2",
        "3"
       ],
       "multiselect":false
      }
     ]
    }
   }
  },
  {
   "cell_type":"markdown",
   "source":[
    "Coronary Calcium Scan Results ( # Major Vessels Colored 0 - 3)"
   ],
   "attachments":{
    
   },
   "metadata":{
    "datalore":{
     "node_id":"LvotWLnOABOhRfDGlbtSqY",
     "type":"MD",
     "hide_input_from_viewers":false,
     "hide_output_from_viewers":false,
     "report_properties":{
      
     }
    }
   }
  },
  {
   "cell_type":"code",
   "source":[
    "inp_thal = \"3\""
   ],
   "execution_count":23,
   "outputs":[
    
   ],
   "metadata":{
    "datalore":{
     "node_id":"qbnxIYdDL0uC4ZzX0tWhkm",
     "type":"CONTROL",
     "hide_input_from_viewers":false,
     "hide_output_from_viewers":false,
     "report_properties":{
      
     },
     "controls_state":[
      {
       "type":"DROPDOWN",
       "label":"Thalassemia",
       "variable":"inp_thal",
       "value":"3",
       "values":[
        
       ],
       "items":[
        "3",
        "6",
        "7"
       ],
       "multiselect":false
      }
     ]
    }
   }
  },
  {
   "cell_type":"markdown",
   "source":[
    "Thalassemia ( 3: Normal, 6: Fixed Defect, 7: Reversible Defect)"
   ],
   "attachments":{
    
   },
   "metadata":{
    "datalore":{
     "node_id":"zDl6BuTO5wLj1gGDk0w8m0",
     "type":"MD",
     "hide_input_from_viewers":false,
     "hide_output_from_viewers":false,
     "report_properties":{
      
     }
    }
   }
  },
  {
   "cell_type":"code",
   "source":[
    "\n",
    "\n",
    "# attributes = ['age', 'sex', 'trestbps','chol','fbs','restecg','thalach','exang','oldpeak','slope','ca','thal']\n",
    "\n",
    "data = [[32,1,0,120,500,1, 1, 187, 0, 0, 2, 3, 3]]\n",
    "df = pd.DataFrame(data, columns=['age', 'sex','cp', 'trestbps','chol','fbs','restecg','thalach','exang','oldpeak','slope','ca','thal'])\n",
    "\n",
    "\n",
    "diag = int(heart_model.predict(df))\n",
    "\n",
    "print(bool(diag))\n",
    "if diag == 1:\n",
    "    print('Heart Disease is likely present')\n",
    "else:\n",
    "    print('The patient is likely free from Heart Disease')\n"
   ],
   "execution_count":24,
   "outputs":[
    {
     "name":"stdout",
     "text":[
      "False\n",
      "The patient is likely free from Heart Disease\n"
     ],
     "output_type":"stream"
    }
   ],
   "metadata":{
    "datalore":{
     "node_id":"ef3MOOgtw59g1NPPkM7LlH",
     "type":"CODE",
     "hide_input_from_viewers":false,
     "hide_output_from_viewers":false,
     "report_properties":{
      
     }
    }
   }
  }
 ],
 "metadata":{
  "kernelspec":{
   "display_name":"Python",
   "language":"python",
   "name":"python"
  },
  "datalore":{
   "version":1,
   "computation_mode":"REACTIVE",
   "package_manager":"pip",
   "base_environment":"default",
   "packages":[
    
   ]
  }
 },
 "nbformat":4,
 "nbformat_minor":4
}